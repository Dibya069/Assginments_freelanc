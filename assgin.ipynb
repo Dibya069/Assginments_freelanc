{
 "cells": [
  {
   "cell_type": "code",
   "execution_count": 51,
   "metadata": {},
   "outputs": [
    {
     "data": {
      "text/plain": [
       "4"
      ]
     },
     "execution_count": 51,
     "metadata": {},
     "output_type": "execute_result"
    }
   ],
   "source": [
    "2+2"
   ]
  },
  {
   "cell_type": "markdown",
   "metadata": {},
   "source": [
    "### Importing Libreries"
   ]
  },
  {
   "cell_type": "code",
   "execution_count": 118,
   "metadata": {},
   "outputs": [
    {
     "data": {
      "text/plain": [
       "True"
      ]
     },
     "execution_count": 118,
     "metadata": {},
     "output_type": "execute_result"
    }
   ],
   "source": [
    "import pandas as pd\n",
    "import os\n",
    "from tqdm import tqdm\n",
    "from dotenv import load_dotenv\n",
    "load_dotenv()"
   ]
  },
  {
   "cell_type": "markdown",
   "metadata": {},
   "source": [
    "### Load the dataset"
   ]
  },
  {
   "cell_type": "code",
   "execution_count": 109,
   "metadata": {},
   "outputs": [
    {
     "data": {
      "text/html": [
       "<div>\n",
       "<style scoped>\n",
       "    .dataframe tbody tr th:only-of-type {\n",
       "        vertical-align: middle;\n",
       "    }\n",
       "\n",
       "    .dataframe tbody tr th {\n",
       "        vertical-align: top;\n",
       "    }\n",
       "\n",
       "    .dataframe thead th {\n",
       "        text-align: right;\n",
       "    }\n",
       "</style>\n",
       "<table border=\"1\" class=\"dataframe\">\n",
       "  <thead>\n",
       "    <tr style=\"text-align: right;\">\n",
       "      <th></th>\n",
       "      <th>Article</th>\n",
       "    </tr>\n",
       "  </thead>\n",
       "  <tbody>\n",
       "    <tr>\n",
       "      <th>0</th>\n",
       "      <td>Retailers, the makers of foods marketed for we...</td>\n",
       "    </tr>\n",
       "    <tr>\n",
       "      <th>1</th>\n",
       "      <td>Move over, Ozempic  theres a new drug in tow...</td>\n",
       "    </tr>\n",
       "    <tr>\n",
       "      <th>2</th>\n",
       "      <td>Sept 14 (Reuters) - Bristol Myers Squibb (BMY....</td>\n",
       "    </tr>\n",
       "    <tr>\n",
       "      <th>3</th>\n",
       "      <td>Austin Wolcott was 18 years old and pretty sur...</td>\n",
       "    </tr>\n",
       "    <tr>\n",
       "      <th>4</th>\n",
       "      <td>Cancer, often referred to as the emperor of a...</td>\n",
       "    </tr>\n",
       "  </tbody>\n",
       "</table>\n",
       "</div>"
      ],
      "text/plain": [
       "                                             Article\n",
       "0  Retailers, the makers of foods marketed for we...\n",
       "1  Move over, Ozempic  theres a new drug in tow...\n",
       "2  Sept 14 (Reuters) - Bristol Myers Squibb (BMY....\n",
       "3  Austin Wolcott was 18 years old and pretty sur...\n",
       "4  Cancer, often referred to as the emperor of a..."
      ]
     },
     "execution_count": 109,
     "metadata": {},
     "output_type": "execute_result"
    }
   ],
   "source": [
    "df = pd.read_csv(\"E:/data science/FreeLance_proj/assgin/documents/Assignment.csv\", encoding='latin-1')\n",
    "df.head(5)"
   ]
  },
  {
   "cell_type": "markdown",
   "metadata": {},
   "source": [
    "### Implementing Groq API for Response Generation with LLAMA3"
   ]
  },
  {
   "cell_type": "code",
   "execution_count": 119,
   "metadata": {},
   "outputs": [],
   "source": [
    "from groq import Groq\n",
    "\n",
    "client = Groq( api_key = os.environ[\"GROQ_API_KEY\"])"
   ]
  },
  {
   "cell_type": "markdown",
   "metadata": {},
   "source": [
    "## Functions for doing the operations"
   ]
  },
  {
   "cell_type": "code",
   "execution_count": 111,
   "metadata": {},
   "outputs": [],
   "source": [
    "class article_inshight:\n",
    "    ## Function for cleaning article\n",
    "    def clean_article(prompt):\n",
    "        res = client.chat.completions.create(\n",
    "            messages= [\n",
    "                    {\"role\": \"system\", \"content\": \"\"\"\n",
    "                        You are an advace AI article cleaner, your role is to,\n",
    "                        Remove unnecessary words and phrases:  Focus on the essential information. \n",
    "                        Shorten sentences: Aim for a more direct and impactful style. Length of the res should be within 700 words.\n",
    "                        Replace complex words with simpler alternatives: Keep it accessible to a wider audience.\n",
    "                        Use strong verbs and active voice: Make the writing more engaging and direct.\n",
    "                        Preserve the key message: The cleaned article should convey the same main points as the original.\n",
    "                    \"\"\"}, \n",
    "                    {\"role\": \"user\", \"content\": prompt}\n",
    "                ], \n",
    "                model=\"llama3-8b-8192\"\n",
    "            )\n",
    "        return res.choices[0].message.content \n",
    "\n",
    "    # Function for detecting sentiment\n",
    "    def mood_detect(prompt):\n",
    "        res = client.chat.completions.create(\n",
    "            messages= [\n",
    "                    {\"role\": \"system\", \"content\": \"\"\"\n",
    "                        You are an advace AI emotion detector, your role is to,\n",
    "                        check the given article summary and tell the mood of that article. \n",
    "                        Your mood checker should be either **Neutral** or **Negetive** or **Positive**.\n",
    "                        Your response should be within 1 word, which the Mood of the article (Neutral / Negetive / Positive)\n",
    "                    \"\"\"}, \n",
    "                    {\"role\": \"user\", \"content\": prompt}\n",
    "                ], \n",
    "                model=\"llama3-8b-8192\"\n",
    "            )\n",
    "        return res.choices[0].message.content \n",
    "\n",
    "    # Function for finding connection themes\n",
    "    def connection_detect(prompt):\n",
    "        res = client.chat.completions.create(\n",
    "            messages= [\n",
    "                    {\"role\": \"system\", \"content\": \"\"\"\n",
    "                        You are an advace AI investigetor, your role is to,\n",
    "                        Provide a concise list of the identified common themes, using clear and descriptive language.\n",
    "                        Briefly explain how each theme is supported by evidence from the articles. \n",
    "                        Feel free to provide any additional insights or observations you have regarding the articles and their common themes. \n",
    "                        Your each for every articles should be within 40 words\n",
    "                    \"\"\"}, \n",
    "                    {\"role\": \"user\", \"content\": f\"You will be given all the articles one by one: \\n {prompt}\"}\n",
    "                ], \n",
    "                model=\"mixtral-8x7b-32768\"\n",
    "            )\n",
    "        return res.choices[0].message.content \n",
    "\n",
    "    # Function for detecting the aspect\n",
    "    def aspect_detect(prompt):\n",
    "        res = client.chat.completions.create(\n",
    "            messages= [\n",
    "                    {\"role\": \"system\", \"content\": \"\"\"\n",
    "                        You are an advace AI sentiment explorer, your role is to,\n",
    "                        check the given article and explores sentiment towards different aspects ofa news story. \n",
    "                        some examples are:\n",
    "                            article - \"New solar panel developed, but critics say it's too expensive.\", aspect - \"Innovation Cost\"\n",
    "                            article - \"City council approves new park plan, but some residents are concerned about traffic.\", aspect - Overall Plan Traffic Impact\n",
    "                        Your task is to give only the aspect nothing else within 20 words.\n",
    "                    \"\"\"}, \n",
    "                    {\"role\": \"user\", \"content\": prompt}\n",
    "                ], \n",
    "                model=\"llama3-8b-8192\"\n",
    "            )\n",
    "        return res.choices[0].message.content"
   ]
  },
  {
   "cell_type": "markdown",
   "metadata": {},
   "source": [
    "### Getting the response generation"
   ]
  },
  {
   "cell_type": "code",
   "execution_count": 125,
   "metadata": {},
   "outputs": [],
   "source": [
    "cleaned_art = []\n",
    "mood_art = []\n",
    "aspect = []"
   ]
  },
  {
   "cell_type": "code",
   "execution_count": 126,
   "metadata": {},
   "outputs": [
    {
     "name": "stderr",
     "output_type": "stream",
     "text": [
      "Cleaning Articles: 100%|██████████| 25/25 [00:28<00:00,  1.14s/it]\n"
     ]
    },
    {
     "name": "stdout",
     "output_type": "stream",
     "text": [
      "25\n"
     ]
    },
    {
     "name": "stderr",
     "output_type": "stream",
     "text": [
      "Detecting Mood: 100%|██████████| 25/25 [01:00<00:00,  2.43s/it]\n",
      "Detecting Aspect: 100%|██████████| 25/25 [01:14<00:00,  2.97s/it]\n"
     ]
    }
   ],
   "source": [
    "## Cleaing the article\n",
    "for i in tqdm(df.values, desc=\"Cleaning Articles\"):\n",
    "    cleaned_art.append(article_inshight.clean_article(str(i)))\n",
    "\n",
    "print(len(cleaned_art))\n",
    "\n",
    "## Detecting the Mood\n",
    "for cl in tqdm(cleaned_art[::], desc=\"Detecting Mood\"):\n",
    "    mood_art.append(article_inshight.mood_detect(cl))\n",
    "\n",
    "mood_arti = [mood.replace('**', '') for mood in mood_art]\n",
    "\n",
    "## Detecing the aspect\n",
    "for ia in tqdm(cleaned_art, desc=\"Detecting Aspect\"):\n",
    "    aspect.append(article_inshight.aspect_detect(ia))\n",
    "\n",
    "## Finding the Connection\n",
    "res = article_inshight.connection_detect(cleaned_art)\n",
    "\n"
   ]
  },
  {
   "cell_type": "markdown",
   "metadata": {},
   "source": [
    "### Final Output"
   ]
  },
  {
   "cell_type": "code",
   "execution_count": 127,
   "metadata": {},
   "outputs": [
    {
     "data": {
      "text/html": [
       "<div>\n",
       "<style scoped>\n",
       "    .dataframe tbody tr th:only-of-type {\n",
       "        vertical-align: middle;\n",
       "    }\n",
       "\n",
       "    .dataframe tbody tr th {\n",
       "        vertical-align: top;\n",
       "    }\n",
       "\n",
       "    .dataframe thead th {\n",
       "        text-align: right;\n",
       "    }\n",
       "</style>\n",
       "<table border=\"1\" class=\"dataframe\">\n",
       "  <thead>\n",
       "    <tr style=\"text-align: right;\">\n",
       "      <th></th>\n",
       "      <th>Article (Cleaned)</th>\n",
       "      <th>Aspect</th>\n",
       "      <th>Mood Rating</th>\n",
       "    </tr>\n",
       "  </thead>\n",
       "  <tbody>\n",
       "    <tr>\n",
       "      <th>0</th>\n",
       "      <td>Here is the rewritten article, incorporating t...</td>\n",
       "      <td>\"Industry Move\"</td>\n",
       "      <td>Neutral</td>\n",
       "    </tr>\n",
       "    <tr>\n",
       "      <th>1</th>\n",
       "      <td>Here's the rewritten article:\\n\\nEli Lilly's n...</td>\n",
       "      <td>Drugs</td>\n",
       "      <td>Neutral</td>\n",
       "    </tr>\n",
       "    <tr>\n",
       "      <th>2</th>\n",
       "      <td>Bristol Myers Squibb Plans to Double Clinical ...</td>\n",
       "      <td>Innovation Strategy</td>\n",
       "      <td>Positive</td>\n",
       "    </tr>\n",
       "    <tr>\n",
       "      <th>3</th>\n",
       "      <td>Here is the rewritten article:\\n\\nAustin Wolco...</td>\n",
       "      <td>Aspect: Innovation Cost</td>\n",
       "      <td>Positive</td>\n",
       "    </tr>\n",
       "    <tr>\n",
       "      <th>4</th>\n",
       "      <td>Here is the cleaned article:\\n\\nCancer: The Fo...</td>\n",
       "      <td>Innovation</td>\n",
       "      <td>Positive</td>\n",
       "    </tr>\n",
       "  </tbody>\n",
       "</table>\n",
       "</div>"
      ],
      "text/plain": [
       "                                   Article (Cleaned)                   Aspect  \\\n",
       "0  Here is the rewritten article, incorporating t...          \"Industry Move\"   \n",
       "1  Here's the rewritten article:\\n\\nEli Lilly's n...                    Drugs   \n",
       "2  Bristol Myers Squibb Plans to Double Clinical ...      Innovation Strategy   \n",
       "3  Here is the rewritten article:\\n\\nAustin Wolco...  Aspect: Innovation Cost   \n",
       "4  Here is the cleaned article:\\n\\nCancer: The Fo...               Innovation   \n",
       "\n",
       "  Mood Rating  \n",
       "0     Neutral  \n",
       "1     Neutral  \n",
       "2    Positive  \n",
       "3    Positive  \n",
       "4    Positive  "
      ]
     },
     "execution_count": 127,
     "metadata": {},
     "output_type": "execute_result"
    }
   ],
   "source": [
    "data = {\n",
    "    \"Article (Cleaned)\": cleaned_art,\n",
    "    \"Aspect\": aspect,\n",
    "    \"Mood Rating\": mood_arti\n",
    "}\n",
    "\n",
    "df_new = pd.DataFrame(data)\n",
    "df_new.head()\n"
   ]
  },
  {
   "cell_type": "code",
   "execution_count": 131,
   "metadata": {},
   "outputs": [],
   "source": [
    "df_new.to_csv('E:/data science/FreeLance_proj/assgin/documents/output.csv', index=False)"
   ]
  },
  {
   "cell_type": "code",
   "execution_count": 129,
   "metadata": {},
   "outputs": [
    {
     "name": "stdout",
     "output_type": "stream",
     "text": [
      "1. Ozempic and the weight loss drug industry: Articles discuss the rise of diabetes and weight loss drugs like Ozempic, a GLP-1 drug that mimics a glucagon-like peptide regulating appetite in the brain, leaving users feeling full for hours. Companies are looking for ways to capitalize on this trend, as Ozempic has led to a decline in earnings for some diet product companies.\n",
      "\n",
      "2. Medicare price negotiations and drug costs: Articles mention the first list of Medicare price negotiations, which includes 10 medicines subject to negotiations to reduce costs. Drugmakers have pushed back against the plan, and some Republicans have criticized it as government overreach.\n",
      "\n",
      "3. #Girlboss movement and women in leadership: Articles discuss the #Girlboss movement and its impact on companies with women in leadership roles. Some argue the term is offensive and diminutive, while others highlight the struggles of companies like Outdoor Voices and Man Repeller, which faced scandals and lawsuits with men at the helm.\n",
      "\n",
      "4. CAR-T therapy for cancer treatment: Articles discuss the use of CAR-T therapy for cancer treatment, which involves creating cells that outsmart cancer. The therapy has shown promising results, although it has challenges, including high costs and side effects like nausea and vomiting.\n",
      "\n",
      "5. Pharmaceutical companies and clinical trials: Articles discuss Bristol Myers Squibb's plan to double its number of treatments in clinical trials to offset declining demand for two of its top-selling drugs facing generic competition.\n",
      "\n",
      "6. FDA investigates cancer therapies: An article discusses the FDA's investigation into cancer therapies developed by companies such as Gilead Sciences and Johnson & Johnson due to concerns about a serious safety issue. The FDA has received reports of patients developing T-cell malignancies, including lymphomas and leukemias, after receiving CAR-T therapies.\n",
      "\n",
      "7. Drug approvals and market competition: Articles discuss the approval of Eli Lilly's new drug, Zepbound, for chronic weight management in obese or overweight adults and Bristol Myers Squibb's plan to advance six more cell therapies targeting immune system disorders and different types of cancer.\n",
      "\n",
      "8. Cancer treatment and financial toxicity: Articles discuss the financial toxicity of cancer treatment, highlighting the importance of affordable solutions for patients. CytoMed Therapeutics is working on a game-changing alternative using Gamma Delta T cells, which could significantly reduce costs and logistical complexity.\n"
     ]
    }
   ],
   "source": [
    "print(res)"
   ]
  },
  {
   "cell_type": "markdown",
   "metadata": {},
   "source": [
    "***"
   ]
  }
 ],
 "metadata": {
  "kernelspec": {
   "display_name": "tspace",
   "language": "python",
   "name": "python3"
  },
  "language_info": {
   "codemirror_mode": {
    "name": "ipython",
    "version": 3
   },
   "file_extension": ".py",
   "mimetype": "text/x-python",
   "name": "python",
   "nbconvert_exporter": "python",
   "pygments_lexer": "ipython3",
   "version": "3.10.14"
  }
 },
 "nbformat": 4,
 "nbformat_minor": 2
}
